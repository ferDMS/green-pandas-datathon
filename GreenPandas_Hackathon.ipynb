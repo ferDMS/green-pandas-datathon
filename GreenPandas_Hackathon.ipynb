{
  "cells": [
    {
      "cell_type": "markdown",
      "metadata": {
        "colab_type": "text",
        "id": "view-in-github"
      },
      "source": [
        "<a href=\"https://colab.research.google.com/github/ferDMS/green-pandas-datathon/blob/main/GreenPandas_Hackathon.ipynb\" target=\"_parent\"><img src=\"https://colab.research.google.com/assets/colab-badge.svg\" alt=\"Open In Colab\"/></a>"
      ]
    },
    {
      "cell_type": "markdown",
      "metadata": {
        "id": "TqGfAtoUvVE7"
      },
      "source": [
        "# Data sourcing and preprocessing"
      ]
    },
    {
      "cell_type": "code",
      "execution_count": 38,
      "metadata": {
        "id": "3BoigXWSuuUW"
      },
      "outputs": [],
      "source": [
        "import pandas as pd\n",
        "import matplotlib.pyplot as plt\n",
        "import seaborn as sns\n",
        "import numpy as np\n",
        "import hashlib\n",
        "from datetime import datetime\n"
      ]
    },
    {
      "cell_type": "code",
      "execution_count": 39,
      "metadata": {
        "id": "NC1HgWOC2rGP"
      },
      "outputs": [],
      "source": [
        "# Load the 'Flights' and 'Sales' tables into DataFrame variables\n",
        "flights_data = pd.read_csv('Filghts TEC_Valid.csv')"
      ]
    },
    {
      "cell_type": "code",
      "execution_count": 40,
      "metadata": {
        "id": "WeeBhjk68Hiu"
      },
      "outputs": [],
      "source": [
        "sales_data = pd.read_csv('Sales TEC_Valid.csv')"
      ]
    },
    {
      "cell_type": "markdown",
      "metadata": {
        "id": "QDyoZ7wH4E-s"
      },
      "source": [
        "## Preprocessing of Flights Data\n"
      ]
    },
    {
      "cell_type": "markdown",
      "metadata": {
        "id": "H0bmASnP4n3D"
      },
      "source": [
        "### Asignar un id único según la ruta de vuelo"
      ]
    },
    {
      "cell_type": "code",
      "execution_count": 41,
      "metadata": {
        "id": "JooA6hNf4lD1"
      },
      "outputs": [],
      "source": [
        "# Convert date columns to datetime\n",
        "flights_data['STD'] = pd.to_datetime(flights_data['STD'])\n",
        "flights_data['STA'] = pd.to_datetime(flights_data['STA'])\n",
        "\n",
        "# Función para crear un \"hash\" de la ruta\n",
        "def get_route_id(row):\n",
        "    # Check if either STD or STA is NaT\n",
        "    if pd.isnull(row['STD']) or pd.isnull(row['STA']):\n",
        "        return None\n",
        "\n",
        "    # Extract hour and minute components from the datetime objects\n",
        "    std_hour_minute = row['STD'].strftime('%H:%M')\n",
        "    sta_hour_minute = row['STA'].strftime('%H:%M')\n",
        "\n",
        "    # Concatenate the departure station, arrival station, and hour-minute components\n",
        "    return f\"{row['DepartureStation']}_{row['ArrivalStation']}_{std_hour_minute}_{sta_hour_minute}\"\n",
        "\n",
        "# Aplicar la función hash para crear la columna 'Route_Hash'\n",
        "flights_data['Route_Hash'] = flights_data.apply(get_route_id, axis=1)\n",
        "\n",
        "# Apply the factorize method to create the 'Route_ID' column\n",
        "flights_data['Route_ID'] = flights_data['Route_Hash'].factorize()[0]"
      ]
    },
    {
      "cell_type": "code",
      "execution_count": 42,
      "metadata": {
        "colab": {
          "base_uri": "https://localhost:8080/",
          "height": 424
        },
        "id": "QU02EWnF5u4Y",
        "outputId": "fc1a2050-8a90-4378-b70b-fd534d38284c"
      },
      "outputs": [
        {
          "data": {
            "text/html": [
              "<div>\n",
              "<style scoped>\n",
              "    .dataframe tbody tr th:only-of-type {\n",
              "        vertical-align: middle;\n",
              "    }\n",
              "\n",
              "    .dataframe tbody tr th {\n",
              "        vertical-align: top;\n",
              "    }\n",
              "\n",
              "    .dataframe thead th {\n",
              "        text-align: right;\n",
              "    }\n",
              "</style>\n",
              "<table border=\"1\" class=\"dataframe\">\n",
              "  <thead>\n",
              "    <tr style=\"text-align: right;\">\n",
              "      <th></th>\n",
              "      <th>Route_Hash</th>\n",
              "      <th>Route_ID</th>\n",
              "    </tr>\n",
              "  </thead>\n",
              "  <tbody>\n",
              "    <tr>\n",
              "      <th>0</th>\n",
              "      <td>AL_AT_16:20_18:35</td>\n",
              "      <td>0</td>\n",
              "    </tr>\n",
              "    <tr>\n",
              "      <th>1</th>\n",
              "      <td>BN_AW_20:00_21:35</td>\n",
              "      <td>1</td>\n",
              "    </tr>\n",
              "    <tr>\n",
              "      <th>2</th>\n",
              "      <td>AT_BD_15:10_16:50</td>\n",
              "      <td>2</td>\n",
              "    </tr>\n",
              "    <tr>\n",
              "      <th>3</th>\n",
              "      <td>AK_AD_18:55_20:30</td>\n",
              "      <td>3</td>\n",
              "    </tr>\n",
              "    <tr>\n",
              "      <th>4</th>\n",
              "      <td>AO_BD_13:35_14:30</td>\n",
              "      <td>4</td>\n",
              "    </tr>\n",
              "    <tr>\n",
              "      <th>...</th>\n",
              "      <td>...</td>\n",
              "      <td>...</td>\n",
              "    </tr>\n",
              "    <tr>\n",
              "      <th>245456</th>\n",
              "      <td>AF_AW_12:05_14:45</td>\n",
              "      <td>9878</td>\n",
              "    </tr>\n",
              "    <tr>\n",
              "      <th>245499</th>\n",
              "      <td>AW_BA_21:40_23:10</td>\n",
              "      <td>9879</td>\n",
              "    </tr>\n",
              "    <tr>\n",
              "      <th>245502</th>\n",
              "      <td>BA_AY_13:25_14:05</td>\n",
              "      <td>9880</td>\n",
              "    </tr>\n",
              "    <tr>\n",
              "      <th>245549</th>\n",
              "      <td>AW_BC_18:00_19:30</td>\n",
              "      <td>9881</td>\n",
              "    </tr>\n",
              "    <tr>\n",
              "      <th>245561</th>\n",
              "      <td>AT_AW_08:50_10:25</td>\n",
              "      <td>9882</td>\n",
              "    </tr>\n",
              "  </tbody>\n",
              "</table>\n",
              "<p>9883 rows × 2 columns</p>\n",
              "</div>"
            ],
            "text/plain": [
              "               Route_Hash  Route_ID\n",
              "0       AL_AT_16:20_18:35         0\n",
              "1       BN_AW_20:00_21:35         1\n",
              "2       AT_BD_15:10_16:50         2\n",
              "3       AK_AD_18:55_20:30         3\n",
              "4       AO_BD_13:35_14:30         4\n",
              "...                   ...       ...\n",
              "245456  AF_AW_12:05_14:45      9878\n",
              "245499  AW_BA_21:40_23:10      9879\n",
              "245502  BA_AY_13:25_14:05      9880\n",
              "245549  AW_BC_18:00_19:30      9881\n",
              "245561  AT_AW_08:50_10:25      9882\n",
              "\n",
              "[9883 rows x 2 columns]"
            ]
          },
          "execution_count": 42,
          "metadata": {},
          "output_type": "execute_result"
        }
      ],
      "source": [
        "# Verificar el resultado mostrando entradas únicas por 'Route_ID'\n",
        "unique_routes = flights_data[['Route_Hash', 'Route_ID']].drop_duplicates()\n",
        "unique_routes"
      ]
    },
    {
      "cell_type": "markdown",
      "metadata": {
        "id": "8GO_MBAo4q9s"
      },
      "source": [
        "### Más procesamiento\n",
        "\n",
        "- imputar datos de passengers que no se encuentren según el promedio de passengers para esa ruta,\n",
        "- limitar datos a 2023,\n",
        "- quitar datos poco relevantes"
      ]
    },
    {
      "cell_type": "code",
      "execution_count": 48,
      "metadata": {
        "colab": {
          "base_uri": "https://localhost:8080/",
          "height": 507
        },
        "id": "pe19hcSUgInA",
        "outputId": "d89d6da6-3037-47b2-a8bb-628094dad366"
      },
      "outputs": [
        {
          "ename": "KeyError",
          "evalue": "\"['Aeronave', 'Route_Hash'] not found in axis\"",
          "output_type": "error",
          "traceback": [
            "\u001b[1;31m---------------------------------------------------------------------------\u001b[0m",
            "\u001b[1;31mKeyError\u001b[0m                                  Traceback (most recent call last)",
            "Cell \u001b[1;32mIn[48], line 17\u001b[0m\n\u001b[0;32m     14\u001b[0m flights_data[\u001b[38;5;124m'\u001b[39m\u001b[38;5;124mDuration\u001b[39m\u001b[38;5;124m'\u001b[39m] \u001b[38;5;241m=\u001b[39m (flights_data[\u001b[38;5;124m'\u001b[39m\u001b[38;5;124mSTA\u001b[39m\u001b[38;5;124m'\u001b[39m] \u001b[38;5;241m-\u001b[39m flights_data[\u001b[38;5;124m'\u001b[39m\u001b[38;5;124mSTD\u001b[39m\u001b[38;5;124m'\u001b[39m])\u001b[38;5;241m.\u001b[39mdt\u001b[38;5;241m.\u001b[39mtotal_seconds() \u001b[38;5;241m/\u001b[39m \u001b[38;5;241m60\u001b[39m  \u001b[38;5;66;03m# in minutes\u001b[39;00m\n\u001b[0;32m     16\u001b[0m \u001b[38;5;66;03m# Drop irrelevant columns and datetime columns because we already created specific unique routes and duration\u001b[39;00m\n\u001b[1;32m---> 17\u001b[0m flights_data\u001b[38;5;241m.\u001b[39mdrop(columns\u001b[38;5;241m=\u001b[39m[\u001b[38;5;124m'\u001b[39m\u001b[38;5;124mAeronave\u001b[39m\u001b[38;5;124m'\u001b[39m, \u001b[38;5;124m'\u001b[39m\u001b[38;5;124mRoute_Hash\u001b[39m\u001b[38;5;124m'\u001b[39m], inplace\u001b[38;5;241m=\u001b[39m\u001b[38;5;28;01mTrue\u001b[39;00m)\n\u001b[0;32m     19\u001b[0m \u001b[38;5;66;03m# Display the modified DataFrame\u001b[39;00m\n\u001b[0;32m     20\u001b[0m flights_data\u001b[38;5;241m.\u001b[39mhead()\n",
            "File \u001b[1;32mc:\\Users\\diego\\anaconda3\\Lib\\site-packages\\pandas\\core\\frame.py:5344\u001b[0m, in \u001b[0;36mDataFrame.drop\u001b[1;34m(self, labels, axis, index, columns, level, inplace, errors)\u001b[0m\n\u001b[0;32m   5196\u001b[0m \u001b[38;5;28;01mdef\u001b[39;00m \u001b[38;5;21mdrop\u001b[39m(\n\u001b[0;32m   5197\u001b[0m     \u001b[38;5;28mself\u001b[39m,\n\u001b[0;32m   5198\u001b[0m     labels: IndexLabel \u001b[38;5;241m|\u001b[39m \u001b[38;5;28;01mNone\u001b[39;00m \u001b[38;5;241m=\u001b[39m \u001b[38;5;28;01mNone\u001b[39;00m,\n\u001b[1;32m   (...)\u001b[0m\n\u001b[0;32m   5205\u001b[0m     errors: IgnoreRaise \u001b[38;5;241m=\u001b[39m \u001b[38;5;124m\"\u001b[39m\u001b[38;5;124mraise\u001b[39m\u001b[38;5;124m\"\u001b[39m,\n\u001b[0;32m   5206\u001b[0m ) \u001b[38;5;241m-\u001b[39m\u001b[38;5;241m>\u001b[39m DataFrame \u001b[38;5;241m|\u001b[39m \u001b[38;5;28;01mNone\u001b[39;00m:\n\u001b[0;32m   5207\u001b[0m \u001b[38;5;250m    \u001b[39m\u001b[38;5;124;03m\"\"\"\u001b[39;00m\n\u001b[0;32m   5208\u001b[0m \u001b[38;5;124;03m    Drop specified labels from rows or columns.\u001b[39;00m\n\u001b[0;32m   5209\u001b[0m \n\u001b[1;32m   (...)\u001b[0m\n\u001b[0;32m   5342\u001b[0m \u001b[38;5;124;03m            weight  1.0     0.8\u001b[39;00m\n\u001b[0;32m   5343\u001b[0m \u001b[38;5;124;03m    \"\"\"\u001b[39;00m\n\u001b[1;32m-> 5344\u001b[0m     \u001b[38;5;28;01mreturn\u001b[39;00m \u001b[38;5;28msuper\u001b[39m()\u001b[38;5;241m.\u001b[39mdrop(\n\u001b[0;32m   5345\u001b[0m         labels\u001b[38;5;241m=\u001b[39mlabels,\n\u001b[0;32m   5346\u001b[0m         axis\u001b[38;5;241m=\u001b[39maxis,\n\u001b[0;32m   5347\u001b[0m         index\u001b[38;5;241m=\u001b[39mindex,\n\u001b[0;32m   5348\u001b[0m         columns\u001b[38;5;241m=\u001b[39mcolumns,\n\u001b[0;32m   5349\u001b[0m         level\u001b[38;5;241m=\u001b[39mlevel,\n\u001b[0;32m   5350\u001b[0m         inplace\u001b[38;5;241m=\u001b[39minplace,\n\u001b[0;32m   5351\u001b[0m         errors\u001b[38;5;241m=\u001b[39merrors,\n\u001b[0;32m   5352\u001b[0m     )\n",
            "File \u001b[1;32mc:\\Users\\diego\\anaconda3\\Lib\\site-packages\\pandas\\core\\generic.py:4711\u001b[0m, in \u001b[0;36mNDFrame.drop\u001b[1;34m(self, labels, axis, index, columns, level, inplace, errors)\u001b[0m\n\u001b[0;32m   4709\u001b[0m \u001b[38;5;28;01mfor\u001b[39;00m axis, labels \u001b[38;5;129;01min\u001b[39;00m axes\u001b[38;5;241m.\u001b[39mitems():\n\u001b[0;32m   4710\u001b[0m     \u001b[38;5;28;01mif\u001b[39;00m labels \u001b[38;5;129;01mis\u001b[39;00m \u001b[38;5;129;01mnot\u001b[39;00m \u001b[38;5;28;01mNone\u001b[39;00m:\n\u001b[1;32m-> 4711\u001b[0m         obj \u001b[38;5;241m=\u001b[39m obj\u001b[38;5;241m.\u001b[39m_drop_axis(labels, axis, level\u001b[38;5;241m=\u001b[39mlevel, errors\u001b[38;5;241m=\u001b[39merrors)\n\u001b[0;32m   4713\u001b[0m \u001b[38;5;28;01mif\u001b[39;00m inplace:\n\u001b[0;32m   4714\u001b[0m     \u001b[38;5;28mself\u001b[39m\u001b[38;5;241m.\u001b[39m_update_inplace(obj)\n",
            "File \u001b[1;32mc:\\Users\\diego\\anaconda3\\Lib\\site-packages\\pandas\\core\\generic.py:4753\u001b[0m, in \u001b[0;36mNDFrame._drop_axis\u001b[1;34m(self, labels, axis, level, errors, only_slice)\u001b[0m\n\u001b[0;32m   4751\u001b[0m         new_axis \u001b[38;5;241m=\u001b[39m axis\u001b[38;5;241m.\u001b[39mdrop(labels, level\u001b[38;5;241m=\u001b[39mlevel, errors\u001b[38;5;241m=\u001b[39merrors)\n\u001b[0;32m   4752\u001b[0m     \u001b[38;5;28;01melse\u001b[39;00m:\n\u001b[1;32m-> 4753\u001b[0m         new_axis \u001b[38;5;241m=\u001b[39m axis\u001b[38;5;241m.\u001b[39mdrop(labels, errors\u001b[38;5;241m=\u001b[39merrors)\n\u001b[0;32m   4754\u001b[0m     indexer \u001b[38;5;241m=\u001b[39m axis\u001b[38;5;241m.\u001b[39mget_indexer(new_axis)\n\u001b[0;32m   4756\u001b[0m \u001b[38;5;66;03m# Case for non-unique axis\u001b[39;00m\n\u001b[0;32m   4757\u001b[0m \u001b[38;5;28;01melse\u001b[39;00m:\n",
            "File \u001b[1;32mc:\\Users\\diego\\anaconda3\\Lib\\site-packages\\pandas\\core\\indexes\\base.py:7000\u001b[0m, in \u001b[0;36mIndex.drop\u001b[1;34m(self, labels, errors)\u001b[0m\n\u001b[0;32m   6998\u001b[0m \u001b[38;5;28;01mif\u001b[39;00m mask\u001b[38;5;241m.\u001b[39many():\n\u001b[0;32m   6999\u001b[0m     \u001b[38;5;28;01mif\u001b[39;00m errors \u001b[38;5;241m!=\u001b[39m \u001b[38;5;124m\"\u001b[39m\u001b[38;5;124mignore\u001b[39m\u001b[38;5;124m\"\u001b[39m:\n\u001b[1;32m-> 7000\u001b[0m         \u001b[38;5;28;01mraise\u001b[39;00m \u001b[38;5;167;01mKeyError\u001b[39;00m(\u001b[38;5;124mf\u001b[39m\u001b[38;5;124m\"\u001b[39m\u001b[38;5;132;01m{\u001b[39;00mlabels[mask]\u001b[38;5;241m.\u001b[39mtolist()\u001b[38;5;132;01m}\u001b[39;00m\u001b[38;5;124m not found in axis\u001b[39m\u001b[38;5;124m\"\u001b[39m)\n\u001b[0;32m   7001\u001b[0m     indexer \u001b[38;5;241m=\u001b[39m indexer[\u001b[38;5;241m~\u001b[39mmask]\n\u001b[0;32m   7002\u001b[0m \u001b[38;5;28;01mreturn\u001b[39;00m \u001b[38;5;28mself\u001b[39m\u001b[38;5;241m.\u001b[39mdelete(indexer)\n",
            "\u001b[1;31mKeyError\u001b[0m: \"['Aeronave', 'Route_Hash'] not found in axis\""
          ]
        }
      ],
      "source": [
        "# Filter data for the year 2023\n",
        "flights_data = flights_data[(flights_data['STD'].dt.year == 2023) & (flights_data['STD'].dt.month == 4)]\n",
        "\n",
        "# Replacing the number of passengers with the capacity maximum of the airplane if it exceeds the capacity\n",
        "flights_data['Passengers'] = flights_data[['Passengers', 'Capacity']].min(axis=1)\n",
        "\n",
        "# Fill missing values in 'Passengers' column with median for each route\n",
        "flights_data['Passengers'] = flights_data.groupby(['Route_ID'])['Passengers'].transform(lambda x: x.fillna(x.median()))\n",
        "\n",
        "# Fill missing values in 'Bookings' column with mean for each route\n",
        "flights_data['Bookings'] = flights_data.groupby(['Route_ID'])['Bookings'].transform(lambda x: x.fillna(x.mean()))\n",
        "\n",
        "# Calculate the flight duration between STD and STA, in minutes\n",
        "flights_data['Duration'] = (flights_data['STA'] - flights_data['STD']).dt.total_seconds() / 60  # in minutes\n",
        "\n",
        "# Drop irrelevant columns and datetime columns because we already created specific unique routes and duration\n",
        "flights_data.drop(columns=['Aeronave', 'Route_Hash'], inplace=True)\n",
        "\n",
        "# Display the modified DataFrame\n",
        "flights_data.head()"
      ]
    },
    {
      "cell_type": "markdown",
      "metadata": {
        "id": "NjJ_97q44U1T"
      },
      "source": [
        "## Preprocessing of Sales Data"
      ]
    },
    {
      "cell_type": "code",
      "execution_count": null,
      "metadata": {
        "id": "DwGiZh_I4XN0"
      },
      "outputs": [],
      "source": [
        "# Usar únicamente productos relevantes (que van en vuelo)\n",
        "categories_to_keep = ['Botanas', 'Licores', 'Refrescos', 'Galletas', 'Sopas',\n",
        "                      'Perecederos', 'Bebidas Calientes', 'Lacteos', 'Alimentos Charter']\n",
        "\n",
        "# Filtrar el DataFrame para mantener solo las categorías deseadas\n",
        "sales_data = sales_data[sales_data['ProductType'].isin(categories_to_keep)]"
      ]
    },
    {
      "cell_type": "markdown",
      "metadata": {
        "id": "LwxGWZW-2jxv"
      },
      "source": [
        "## Después de filtrado, unir tablas para obtener productos a analizar"
      ]
    },
    {
      "cell_type": "code",
      "execution_count": null,
      "metadata": {
        "colab": {
          "base_uri": "https://localhost:8080/"
        },
        "id": "BXsWcKBv2jTe",
        "outputId": "d239f9bf-b713-4634-98d7-eb95506d4718"
      },
      "outputs": [
        {
          "name": "stdout",
          "output_type": "stream",
          "text": [
            "<class 'pandas.core.frame.DataFrame'>\n",
            "RangeIndex: 69670 entries, 0 to 69669\n",
            "Data columns (total 16 columns):\n",
            " #   Column            Non-Null Count  Dtype         \n",
            "---  ------            --------------  -----         \n",
            " 0   Flight_ID         69670 non-null  object        \n",
            " 1   DepartureStation  69670 non-null  object        \n",
            " 2   ArrivalStation    69670 non-null  object        \n",
            " 3   Destination_Type  69670 non-null  object        \n",
            " 4   Origin_Type       69670 non-null  object        \n",
            " 5   STD               69670 non-null  datetime64[ns]\n",
            " 6   STA               69670 non-null  datetime64[ns]\n",
            " 7   Capacity          69670 non-null  int64         \n",
            " 8   Passengers        69670 non-null  float64       \n",
            " 9   Bookings          69670 non-null  float64       \n",
            " 10  Route_ID          69670 non-null  int64         \n",
            " 11  Duration          69670 non-null  float64       \n",
            " 12  ProductType       67809 non-null  object        \n",
            " 13  ProductName       67809 non-null  object        \n",
            " 14  Quantity          67809 non-null  float64       \n",
            " 15  TotalSales        67809 non-null  float64       \n",
            "dtypes: datetime64[ns](2), float64(5), int64(2), object(7)\n",
            "memory usage: 8.5+ MB\n"
          ]
        }
      ],
      "source": [
        "# Join the tables on the common column 'Flight_ID'\n",
        "merged_data = pd.merge(flights_data, sales_data, on='Flight_ID', how='left')\n",
        "merged_data.info()"
      ]
    },
    {
      "cell_type": "markdown",
      "metadata": {
        "id": "pmymXbbMGuSt"
      },
      "source": [
        "# Data visualization"
      ]
    },
    {
      "cell_type": "markdown",
      "metadata": {
        "id": "5DWidvOFzZgJ"
      },
      "source": [
        "## Total sales from random flight routes"
      ]
    },
    {
      "cell_type": "code",
      "execution_count": null,
      "metadata": {
        "colab": {
          "base_uri": "https://localhost:8080/",
          "height": 343
        },
        "id": "UciNTNKt-ZTQ",
        "outputId": "b6a3ea07-8096-4dfc-a2dd-bd87865086fc"
      },
      "outputs": [
        {
          "ename": "IndexError",
          "evalue": "index 0 is out of bounds for axis 0 with size 0",
          "output_type": "error",
          "traceback": [
            "\u001b[1;31m---------------------------------------------------------------------------\u001b[0m",
            "\u001b[1;31mIndexError\u001b[0m                                Traceback (most recent call last)",
            "Cell \u001b[1;32mIn[31], line 9\u001b[0m\n\u001b[0;32m      7\u001b[0m \u001b[38;5;66;03m# Create a simple horizontal visualization of the grouped data\u001b[39;00m\n\u001b[0;32m      8\u001b[0m plt\u001b[38;5;241m.\u001b[39mfigure(figsize\u001b[38;5;241m=\u001b[39m(\u001b[38;5;241m10\u001b[39m, \u001b[38;5;241m6\u001b[39m))\n\u001b[1;32m----> 9\u001b[0m random_route_data\u001b[38;5;241m.\u001b[39mgroupby(\u001b[38;5;124m'\u001b[39m\u001b[38;5;124mProductName\u001b[39m\u001b[38;5;124m'\u001b[39m)[\u001b[38;5;124m'\u001b[39m\u001b[38;5;124mQuantity\u001b[39m\u001b[38;5;124m'\u001b[39m]\u001b[38;5;241m.\u001b[39msum()\u001b[38;5;241m.\u001b[39mplot(kind\u001b[38;5;241m=\u001b[39m\u001b[38;5;124m'\u001b[39m\u001b[38;5;124mbarh\u001b[39m\u001b[38;5;124m'\u001b[39m)\n\u001b[0;32m     10\u001b[0m plt\u001b[38;5;241m.\u001b[39mtitle(\u001b[38;5;124mf\u001b[39m\u001b[38;5;124m'\u001b[39m\u001b[38;5;124mSales Data for Route ID: \u001b[39m\u001b[38;5;132;01m{\u001b[39;00mrandom_route_id\u001b[38;5;132;01m}\u001b[39;00m\u001b[38;5;124m'\u001b[39m)\n\u001b[0;32m     11\u001b[0m plt\u001b[38;5;241m.\u001b[39mxlabel(\u001b[38;5;124m'\u001b[39m\u001b[38;5;124mTotal Quantity Sold\u001b[39m\u001b[38;5;124m'\u001b[39m)\n",
            "File \u001b[1;32mc:\\Users\\diego\\anaconda3\\Lib\\site-packages\\pandas\\plotting\\_core.py:1031\u001b[0m, in \u001b[0;36mPlotAccessor.__call__\u001b[1;34m(self, *args, **kwargs)\u001b[0m\n\u001b[0;32m   1028\u001b[0m             label_name \u001b[38;5;241m=\u001b[39m label_kw \u001b[38;5;129;01mor\u001b[39;00m data\u001b[38;5;241m.\u001b[39mcolumns\n\u001b[0;32m   1029\u001b[0m             data\u001b[38;5;241m.\u001b[39mcolumns \u001b[38;5;241m=\u001b[39m label_name\n\u001b[1;32m-> 1031\u001b[0m \u001b[38;5;28;01mreturn\u001b[39;00m plot_backend\u001b[38;5;241m.\u001b[39mplot(data, kind\u001b[38;5;241m=\u001b[39mkind, \u001b[38;5;241m*\u001b[39m\u001b[38;5;241m*\u001b[39mkwargs)\n",
            "File \u001b[1;32mc:\\Users\\diego\\anaconda3\\Lib\\site-packages\\pandas\\plotting\\_matplotlib\\__init__.py:71\u001b[0m, in \u001b[0;36mplot\u001b[1;34m(data, kind, **kwargs)\u001b[0m\n\u001b[0;32m     69\u001b[0m         kwargs[\u001b[38;5;124m\"\u001b[39m\u001b[38;5;124max\u001b[39m\u001b[38;5;124m\"\u001b[39m] \u001b[38;5;241m=\u001b[39m \u001b[38;5;28mgetattr\u001b[39m(ax, \u001b[38;5;124m\"\u001b[39m\u001b[38;5;124mleft_ax\u001b[39m\u001b[38;5;124m\"\u001b[39m, ax)\n\u001b[0;32m     70\u001b[0m plot_obj \u001b[38;5;241m=\u001b[39m PLOT_CLASSES[kind](data, \u001b[38;5;241m*\u001b[39m\u001b[38;5;241m*\u001b[39mkwargs)\n\u001b[1;32m---> 71\u001b[0m plot_obj\u001b[38;5;241m.\u001b[39mgenerate()\n\u001b[0;32m     72\u001b[0m plot_obj\u001b[38;5;241m.\u001b[39mdraw()\n\u001b[0;32m     73\u001b[0m \u001b[38;5;28;01mreturn\u001b[39;00m plot_obj\u001b[38;5;241m.\u001b[39mresult\n",
            "File \u001b[1;32mc:\\Users\\diego\\anaconda3\\Lib\\site-packages\\pandas\\plotting\\_matplotlib\\core.py:460\u001b[0m, in \u001b[0;36mMPLPlot.generate\u001b[1;34m(self)\u001b[0m\n\u001b[0;32m    458\u001b[0m \u001b[38;5;28;01mfor\u001b[39;00m ax \u001b[38;5;129;01min\u001b[39;00m \u001b[38;5;28mself\u001b[39m\u001b[38;5;241m.\u001b[39maxes:\n\u001b[0;32m    459\u001b[0m     \u001b[38;5;28mself\u001b[39m\u001b[38;5;241m.\u001b[39m_post_plot_logic_common(ax, \u001b[38;5;28mself\u001b[39m\u001b[38;5;241m.\u001b[39mdata)\n\u001b[1;32m--> 460\u001b[0m     \u001b[38;5;28mself\u001b[39m\u001b[38;5;241m.\u001b[39m_post_plot_logic(ax, \u001b[38;5;28mself\u001b[39m\u001b[38;5;241m.\u001b[39mdata)\n",
            "File \u001b[1;32mc:\\Users\\diego\\anaconda3\\Lib\\site-packages\\pandas\\plotting\\_matplotlib\\core.py:1757\u001b[0m, in \u001b[0;36mBarPlot._post_plot_logic\u001b[1;34m(self, ax, data)\u001b[0m\n\u001b[0;32m   1754\u001b[0m \u001b[38;5;28;01melse\u001b[39;00m:\n\u001b[0;32m   1755\u001b[0m     str_index \u001b[38;5;241m=\u001b[39m [pprint_thing(key) \u001b[38;5;28;01mfor\u001b[39;00m key \u001b[38;5;129;01min\u001b[39;00m \u001b[38;5;28mrange\u001b[39m(data\u001b[38;5;241m.\u001b[39mshape[\u001b[38;5;241m0\u001b[39m])]\n\u001b[1;32m-> 1757\u001b[0m s_edge \u001b[38;5;241m=\u001b[39m \u001b[38;5;28mself\u001b[39m\u001b[38;5;241m.\u001b[39max_pos[\u001b[38;5;241m0\u001b[39m] \u001b[38;5;241m-\u001b[39m \u001b[38;5;241m0.25\u001b[39m \u001b[38;5;241m+\u001b[39m \u001b[38;5;28mself\u001b[39m\u001b[38;5;241m.\u001b[39mlim_offset\n\u001b[0;32m   1758\u001b[0m e_edge \u001b[38;5;241m=\u001b[39m \u001b[38;5;28mself\u001b[39m\u001b[38;5;241m.\u001b[39max_pos[\u001b[38;5;241m-\u001b[39m\u001b[38;5;241m1\u001b[39m] \u001b[38;5;241m+\u001b[39m \u001b[38;5;241m0.25\u001b[39m \u001b[38;5;241m+\u001b[39m \u001b[38;5;28mself\u001b[39m\u001b[38;5;241m.\u001b[39mbar_width \u001b[38;5;241m+\u001b[39m \u001b[38;5;28mself\u001b[39m\u001b[38;5;241m.\u001b[39mlim_offset\n\u001b[0;32m   1760\u001b[0m \u001b[38;5;28mself\u001b[39m\u001b[38;5;241m.\u001b[39m_decorate_ticks(ax, \u001b[38;5;28mself\u001b[39m\u001b[38;5;241m.\u001b[39m_get_index_name(), str_index, s_edge, e_edge)\n",
            "\u001b[1;31mIndexError\u001b[0m: index 0 is out of bounds for axis 0 with size 0"
          ]
        },
        {
          "data": {
            "image/png": "[encoded data removed]",
            "text/plain": [
              "<Figure size 1000x600 with 1 Axes>"
            ]
          },
          "metadata": {},
          "output_type": "display_data"
        }
      ],
      "source": [
        "# Select a random route ID\n",
        "random_route_id = np.random.choice(merged_data['Route_ID'].unique())\n",
        "\n",
        "# Filter the DataFrame for the selected Route ID\n",
        "random_route_data = merged_data[merged_data['Route_ID'] == random_route_id]\n",
        "\n",
        "# Create a simple horizontal visualization of the grouped data\n",
        "plt.figure(figsize=(10, 6))\n",
        "random_route_data.groupby('ProductName')['Quantity'].sum().plot(kind='barh')\n",
        "plt.title(f'Sales Data for Route ID: {random_route_id}')\n",
        "plt.xlabel('Total Quantity Sold')\n",
        "plt.ylabel('Product Name')\n",
        "plt.show()"
      ]
    },
    {
      "cell_type": "markdown",
      "metadata": {
        "id": "LPgXAtPTG1ii"
      },
      "source": [
        "## In how many flights Y are X quantity of products sold?"
      ]
    },
    {
      "cell_type": "code",
      "execution_count": null,
      "metadata": {
        "colab": {
          "base_uri": "https://localhost:8080/",
          "height": 411
        },
        "id": "BjFidzf3-3wY",
        "outputId": "1666185c-2746-4779-e3ff-eaeb9587ba96"
      },
      "outputs": [
        {
          "data": {
            "image/png": "[encoded data removed]",
            "text/plain": [
              "<Figure size 1000x600 with 1 Axes>"
            ]
          },
          "metadata": {},
          "output_type": "display_data"
        }
      ],
      "source": [
        "# Group the data by Flight ID and calculate the total number of items sold per flight\n",
        "items_sold_per_flight = merged_data.groupby('Flight_ID')['Quantity'].sum()\n",
        "\n",
        "# Define the range for the x-axis (remove outliers)\n",
        "x_range = (0, items_sold_per_flight.quantile(0.95))\n",
        "\n",
        "# Plot the distribution of number of items sold per flight\n",
        "plt.figure(figsize=(10, 6))\n",
        "plt.hist(items_sold_per_flight, bins=50, range=x_range, color='skyblue', edgecolor='black')\n",
        "plt.title('Distribution of Number of Items Sold per Flight')\n",
        "plt.xlabel('Number of Items Sold')\n",
        "plt.ylabel('Frequency')\n",
        "plt.grid(True)\n",
        "plt.show()"
      ]
    },
    {
      "cell_type": "markdown",
      "metadata": {
        "id": "8HbjBn-UHOE3"
      },
      "source": [
        "## How much of each type of product is sold (sales frequency)"
      ]
    },
    {
      "cell_type": "code",
      "execution_count": null,
      "metadata": {
        "colab": {
          "base_uri": "https://localhost:8080/",
          "height": 508
        },
        "id": "yVVeM41t7pid",
        "outputId": "b3dfd1f9-2c6a-4d09-9032-38e1f889097f"
      },
      "outputs": [
        {
          "data": {
            "image/png": "[encoded data removed]",
            "text/plain": [
              "<Figure size 1200x800 with 1 Axes>"
            ]
          },
          "metadata": {},
          "output_type": "display_data"
        }
      ],
      "source": [
        "plt.figure(figsize=(12, 8))\n",
        "sns.boxplot(x='ProductType', y='TotalSales', data=merged_data, showfliers=False)  # Showing outliers\n",
        "plt.title('ProductType vs TotalSales')\n",
        "plt.xlabel('ProductType')\n",
        "plt.ylabel('Total Sales')\n",
        "plt.xticks(rotation=45)\n",
        "plt.show()"
      ]
    },
    {
      "cell_type": "code",
      "execution_count": null,
      "metadata": {
        "colab": {
          "base_uri": "https://localhost:8080/",
          "height": 394
        },
        "id": "NYzZpBFI7qjh",
        "outputId": "e3643755-e630-4f7d-c130-d62b608a5b6f"
      },
      "outputs": [
        {
          "data": {
            "image/png": "[encoded data removed]",
            "text/plain": [
              "<Figure size 1200x800 with 1 Axes>"
            ]
          },
          "metadata": {},
          "output_type": "display_data"
        }
      ],
      "source": [
        "# Calculate total sales for each product\n",
        "product_sales = merged_data.groupby('ProductName')['TotalSales'].sum().reset_index()\n",
        "\n",
        "# Select the top 10 products\n",
        "top_10_products = product_sales.nlargest(50, 'TotalSales')['ProductName']\n",
        "\n",
        "# Filter the original data for the top 10 products\n",
        "merged_data_top_10 = merged_data[merged_data['ProductName'].isin(top_10_products)]\n",
        "\n",
        "# Relationship between ProductName and TotalSales for top 10 products (horizontal)\n",
        "plt.figure(figsize=(12, 8))\n",
        "sns.boxplot(x='TotalSales', y='ProductName', data=merged_data_top_10, showfliers=False)  # No outliers\n",
        "plt.title('Top 50 Products by Total Sales')\n",
        "plt.xlabel('Total Sales')\n",
        "plt.ylabel('Product Name')\n",
        "plt.show()\n"
      ]
    },
    {
      "cell_type": "markdown",
      "metadata": {
        "id": "rT5Koevl3ewM"
      },
      "source": [
        "# Model training"
      ]
    },
    {
      "cell_type": "code",
      "execution_count": null,
      "metadata": {
        "id": "d7QQ46QSClY3"
      },
      "outputs": [],
      "source": [
        "from sklearn.model_selection import train_test_split\n",
        "from sklearn.metrics import accuracy_score, precision_score, f1_score, log_loss\n",
        "from sklearn.preprocessing import OneHotEncoder"
      ]
    },
    {
      "cell_type": "code",
      "execution_count": null,
      "metadata": {
        "colab": {
          "base_uri": "https://localhost:8080/"
        },
        "id": "1s9VU2o5Ct1_",
        "outputId": "36b21bc2-9db9-4b52-bc15-00368f442a33"
      },
      "outputs": [
        {
          "name": "stdout",
          "output_type": "stream",
          "text": [
            "<class 'pandas.core.frame.DataFrame'>\n",
            "RangeIndex: 71882 entries, 0 to 71881\n",
            "Data columns (total 16 columns):\n",
            " #   Column            Non-Null Count  Dtype         \n",
            "---  ------            --------------  -----         \n",
            " 0   Flight_ID         71882 non-null  object        \n",
            " 1   DepartureStation  71882 non-null  object        \n",
            " 2   ArrivalStation    71882 non-null  object        \n",
            " 3   Destination_Type  71882 non-null  object        \n",
            " 4   Origin_Type       71882 non-null  object        \n",
            " 5   STD               71882 non-null  datetime64[ns]\n",
            " 6   STA               71882 non-null  datetime64[ns]\n",
            " 7   Capacity          71882 non-null  int64         \n",
            " 8   Passengers        71882 non-null  float64       \n",
            " 9   Bookings          71882 non-null  float64       \n",
            " 10  Route_ID          71882 non-null  int64         \n",
            " 11  Duration          71882 non-null  float64       \n",
            " 12  ProductType       70566 non-null  object        \n",
            " 13  ProductName       70566 non-null  object        \n",
            " 14  Quantity          70566 non-null  float64       \n",
            " 15  TotalSales        70566 non-null  float64       \n",
            "dtypes: datetime64[ns](2), float64(5), int64(2), object(7)\n",
            "memory usage: 8.8+ MB\n"
          ]
        }
      ],
      "source": [
        "merged_data.info()"
      ]
    },
    {
      "cell_type": "code",
      "execution_count": null,
      "metadata": {
        "colab": {
          "base_uri": "https://localhost:8080/",
          "height": 290
        },
        "id": "BqnS6OScCEPk",
        "outputId": "c461c8d8-efb9-42db-d8a2-1461342853a0"
      },
      "outputs": [
        {
          "data": {
            "text/html": [
              "<div>\n",
              "<style scoped>\n",
              "    .dataframe tbody tr th:only-of-type {\n",
              "        vertical-align: middle;\n",
              "    }\n",
              "\n",
              "    .dataframe tbody tr th {\n",
              "        vertical-align: top;\n",
              "    }\n",
              "\n",
              "    .dataframe thead th {\n",
              "        text-align: right;\n",
              "    }\n",
              "</style>\n",
              "<table border=\"1\" class=\"dataframe\">\n",
              "  <thead>\n",
              "    <tr style=\"text-align: right;\">\n",
              "      <th></th>\n",
              "      <th>Capacity</th>\n",
              "      <th>Passengers</th>\n",
              "      <th>Bookings</th>\n",
              "      <th>Duration</th>\n",
              "      <th>Quantity</th>\n",
              "      <th>TotalSales</th>\n",
              "      <th>Origin_Type_Ciudad Fronteriza</th>\n",
              "      <th>Origin_Type_Ciudad Principal</th>\n",
              "      <th>Origin_Type_Ecoturismo</th>\n",
              "      <th>Origin_Type_MX Amigos y Familia</th>\n",
              "      <th>...</th>\n",
              "      <th>Route_ID_9627</th>\n",
              "      <th>Route_ID_9644</th>\n",
              "      <th>Route_ID_9650</th>\n",
              "      <th>Route_ID_9667</th>\n",
              "      <th>Route_ID_9694</th>\n",
              "      <th>Route_ID_9706</th>\n",
              "      <th>Route_ID_9768</th>\n",
              "      <th>Route_ID_9799</th>\n",
              "      <th>Route_ID_9840</th>\n",
              "      <th>Route_ID_9850</th>\n",
              "    </tr>\n",
              "  </thead>\n",
              "  <tbody>\n",
              "    <tr>\n",
              "      <th>0</th>\n",
              "      <td>240</td>\n",
              "      <td>178.0</td>\n",
              "      <td>121.0</td>\n",
              "      <td>100.0</td>\n",
              "      <td>1.0</td>\n",
              "      <td>42.0</td>\n",
              "      <td>False</td>\n",
              "      <td>True</td>\n",
              "      <td>False</td>\n",
              "      <td>False</td>\n",
              "      <td>...</td>\n",
              "      <td>False</td>\n",
              "      <td>False</td>\n",
              "      <td>False</td>\n",
              "      <td>False</td>\n",
              "      <td>False</td>\n",
              "      <td>False</td>\n",
              "      <td>False</td>\n",
              "      <td>False</td>\n",
              "      <td>False</td>\n",
              "      <td>False</td>\n",
              "    </tr>\n",
              "    <tr>\n",
              "      <th>1</th>\n",
              "      <td>240</td>\n",
              "      <td>178.0</td>\n",
              "      <td>121.0</td>\n",
              "      <td>100.0</td>\n",
              "      <td>5.0</td>\n",
              "      <td>550.0</td>\n",
              "      <td>False</td>\n",
              "      <td>True</td>\n",
              "      <td>False</td>\n",
              "      <td>False</td>\n",
              "      <td>...</td>\n",
              "      <td>False</td>\n",
              "      <td>False</td>\n",
              "      <td>False</td>\n",
              "      <td>False</td>\n",
              "      <td>False</td>\n",
              "      <td>False</td>\n",
              "      <td>False</td>\n",
              "      <td>False</td>\n",
              "      <td>False</td>\n",
              "      <td>False</td>\n",
              "    </tr>\n",
              "    <tr>\n",
              "      <th>2</th>\n",
              "      <td>240</td>\n",
              "      <td>178.0</td>\n",
              "      <td>121.0</td>\n",
              "      <td>100.0</td>\n",
              "      <td>2.0</td>\n",
              "      <td>90.0</td>\n",
              "      <td>False</td>\n",
              "      <td>True</td>\n",
              "      <td>False</td>\n",
              "      <td>False</td>\n",
              "      <td>...</td>\n",
              "      <td>False</td>\n",
              "      <td>False</td>\n",
              "      <td>False</td>\n",
              "      <td>False</td>\n",
              "      <td>False</td>\n",
              "      <td>False</td>\n",
              "      <td>False</td>\n",
              "      <td>False</td>\n",
              "      <td>False</td>\n",
              "      <td>False</td>\n",
              "    </tr>\n",
              "    <tr>\n",
              "      <th>3</th>\n",
              "      <td>240</td>\n",
              "      <td>178.0</td>\n",
              "      <td>121.0</td>\n",
              "      <td>100.0</td>\n",
              "      <td>3.0</td>\n",
              "      <td>135.0</td>\n",
              "      <td>False</td>\n",
              "      <td>True</td>\n",
              "      <td>False</td>\n",
              "      <td>False</td>\n",
              "      <td>...</td>\n",
              "      <td>False</td>\n",
              "      <td>False</td>\n",
              "      <td>False</td>\n",
              "      <td>False</td>\n",
              "      <td>False</td>\n",
              "      <td>False</td>\n",
              "      <td>False</td>\n",
              "      <td>False</td>\n",
              "      <td>False</td>\n",
              "      <td>False</td>\n",
              "    </tr>\n",
              "    <tr>\n",
              "      <th>4</th>\n",
              "      <td>240</td>\n",
              "      <td>178.0</td>\n",
              "      <td>121.0</td>\n",
              "      <td>100.0</td>\n",
              "      <td>1.0</td>\n",
              "      <td>42.0</td>\n",
              "      <td>False</td>\n",
              "      <td>True</td>\n",
              "      <td>False</td>\n",
              "      <td>False</td>\n",
              "      <td>...</td>\n",
              "      <td>False</td>\n",
              "      <td>False</td>\n",
              "      <td>False</td>\n",
              "      <td>False</td>\n",
              "      <td>False</td>\n",
              "      <td>False</td>\n",
              "      <td>False</td>\n",
              "      <td>False</td>\n",
              "      <td>False</td>\n",
              "      <td>False</td>\n",
              "    </tr>\n",
              "  </tbody>\n",
              "</table>\n",
              "<p>5 rows × 807 columns</p>\n",
              "</div>"
            ],
            "text/plain": [
              "   Capacity  Passengers  Bookings  Duration  Quantity  TotalSales  \\\n",
              "0       240       178.0     121.0     100.0       1.0        42.0   \n",
              "1       240       178.0     121.0     100.0       5.0       550.0   \n",
              "2       240       178.0     121.0     100.0       2.0        90.0   \n",
              "3       240       178.0     121.0     100.0       3.0       135.0   \n",
              "4       240       178.0     121.0     100.0       1.0        42.0   \n",
              "\n",
              "   Origin_Type_Ciudad Fronteriza  Origin_Type_Ciudad Principal  \\\n",
              "0                          False                          True   \n",
              "1                          False                          True   \n",
              "2                          False                          True   \n",
              "3                          False                          True   \n",
              "4                          False                          True   \n",
              "\n",
              "   Origin_Type_Ecoturismo  Origin_Type_MX Amigos y Familia  ...  \\\n",
              "0                   False                            False  ...   \n",
              "1                   False                            False  ...   \n",
              "2                   False                            False  ...   \n",
              "3                   False                            False  ...   \n",
              "4                   False                            False  ...   \n",
              "\n",
              "   Route_ID_9627  Route_ID_9644  Route_ID_9650  Route_ID_9667  Route_ID_9694  \\\n",
              "0          False          False          False          False          False   \n",
              "1          False          False          False          False          False   \n",
              "2          False          False          False          False          False   \n",
              "3          False          False          False          False          False   \n",
              "4          False          False          False          False          False   \n",
              "\n",
              "   Route_ID_9706  Route_ID_9768  Route_ID_9799  Route_ID_9840  Route_ID_9850  \n",
              "0          False          False          False          False          False  \n",
              "1          False          False          False          False          False  \n",
              "2          False          False          False          False          False  \n",
              "3          False          False          False          False          False  \n",
              "4          False          False          False          False          False  \n",
              "\n",
              "[5 rows x 807 columns]"
            ]
          },
          "execution_count": 15,
          "metadata": {},
          "output_type": "execute_result"
        }
      ],
      "source": [
        "# Columns to drop\n",
        "cols_to_drop = ['ProductType', 'Flight_ID', 'STD', 'STA', 'DepartureStation', 'ArrivalStation', 'ProductName']\n",
        "\n",
        "# Drop columns not going to be used\n",
        "merged_data_encoded = merged_data.drop(columns=cols_to_drop)\n",
        "\n",
        "# One-hot encode categorical variables\n",
        "cat_cols = ['Origin_Type', 'Destination_Type', 'Route_ID']\n",
        "# cat_cols = ['Origin_Type', 'Destination_Type', 'ProductName']\n",
        "merged_data_encoded = pd.get_dummies(merged_data_encoded, columns=cat_cols)\n",
        "\n",
        "# Display the first few rows of the encoded dataset\n",
        "merged_data_encoded.head()\n"
      ]
    },
    {
      "cell_type": "code",
      "execution_count": null,
      "metadata": {
        "id": "1SSIVQ_lDgNR"
      },
      "outputs": [],
      "source": [
        "# Split the data into features (X) and target variable (y)\n",
        "X = merged_data_encoded.drop(columns=['Passengers'])\n",
        "y = merged_data_encoded['Passengers']\n",
        "\n",
        "# Split the data into training and testing sets\n",
        "X_train, X_test, y_train, y_test = train_test_split(X, y, test_size=0.2, random_state=42)\n"
      ]
    },
    {
      "cell_type": "code",
      "execution_count": null,
      "metadata": {
        "colab": {
          "base_uri": "https://localhost:8080/",
          "height": 478
        },
        "id": "4ZrykcZSIkVy",
        "outputId": "4e2c250b-f313-4d6b-d5ee-58d2b23077e2"
      },
      "outputs": [
        {
          "data": {
            "text/html": [
              "<div>\n",
              "<style scoped>\n",
              "    .dataframe tbody tr th:only-of-type {\n",
              "        vertical-align: middle;\n",
              "    }\n",
              "\n",
              "    .dataframe tbody tr th {\n",
              "        vertical-align: top;\n",
              "    }\n",
              "\n",
              "    .dataframe thead th {\n",
              "        text-align: right;\n",
              "    }\n",
              "</style>\n",
              "<table border=\"1\" class=\"dataframe\">\n",
              "  <thead>\n",
              "    <tr style=\"text-align: right;\">\n",
              "      <th></th>\n",
              "      <th>Capacity</th>\n",
              "      <th>Bookings</th>\n",
              "      <th>Duration</th>\n",
              "      <th>Quantity</th>\n",
              "      <th>TotalSales</th>\n",
              "      <th>Origin_Type_Ciudad Fronteriza</th>\n",
              "      <th>Origin_Type_Ciudad Principal</th>\n",
              "      <th>Origin_Type_Ecoturismo</th>\n",
              "      <th>Origin_Type_MX Amigos y Familia</th>\n",
              "      <th>Origin_Type_Playa</th>\n",
              "      <th>...</th>\n",
              "      <th>Route_ID_9627</th>\n",
              "      <th>Route_ID_9644</th>\n",
              "      <th>Route_ID_9650</th>\n",
              "      <th>Route_ID_9667</th>\n",
              "      <th>Route_ID_9694</th>\n",
              "      <th>Route_ID_9706</th>\n",
              "      <th>Route_ID_9768</th>\n",
              "      <th>Route_ID_9799</th>\n",
              "      <th>Route_ID_9840</th>\n",
              "      <th>Route_ID_9850</th>\n",
              "    </tr>\n",
              "  </thead>\n",
              "  <tbody>\n",
              "    <tr>\n",
              "      <th>0</th>\n",
              "      <td>240</td>\n",
              "      <td>121.0</td>\n",
              "      <td>100.0</td>\n",
              "      <td>1.0</td>\n",
              "      <td>42.0</td>\n",
              "      <td>False</td>\n",
              "      <td>True</td>\n",
              "      <td>False</td>\n",
              "      <td>False</td>\n",
              "      <td>False</td>\n",
              "      <td>...</td>\n",
              "      <td>False</td>\n",
              "      <td>False</td>\n",
              "      <td>False</td>\n",
              "      <td>False</td>\n",
              "      <td>False</td>\n",
              "      <td>False</td>\n",
              "      <td>False</td>\n",
              "      <td>False</td>\n",
              "      <td>False</td>\n",
              "      <td>False</td>\n",
              "    </tr>\n",
              "    <tr>\n",
              "      <th>1</th>\n",
              "      <td>240</td>\n",
              "      <td>121.0</td>\n",
              "      <td>100.0</td>\n",
              "      <td>5.0</td>\n",
              "      <td>550.0</td>\n",
              "      <td>False</td>\n",
              "      <td>True</td>\n",
              "      <td>False</td>\n",
              "      <td>False</td>\n",
              "      <td>False</td>\n",
              "      <td>...</td>\n",
              "      <td>False</td>\n",
              "      <td>False</td>\n",
              "      <td>False</td>\n",
              "      <td>False</td>\n",
              "      <td>False</td>\n",
              "      <td>False</td>\n",
              "      <td>False</td>\n",
              "      <td>False</td>\n",
              "      <td>False</td>\n",
              "      <td>False</td>\n",
              "    </tr>\n",
              "    <tr>\n",
              "      <th>2</th>\n",
              "      <td>240</td>\n",
              "      <td>121.0</td>\n",
              "      <td>100.0</td>\n",
              "      <td>2.0</td>\n",
              "      <td>90.0</td>\n",
              "      <td>False</td>\n",
              "      <td>True</td>\n",
              "      <td>False</td>\n",
              "      <td>False</td>\n",
              "      <td>False</td>\n",
              "      <td>...</td>\n",
              "      <td>False</td>\n",
              "      <td>False</td>\n",
              "      <td>False</td>\n",
              "      <td>False</td>\n",
              "      <td>False</td>\n",
              "      <td>False</td>\n",
              "      <td>False</td>\n",
              "      <td>False</td>\n",
              "      <td>False</td>\n",
              "      <td>False</td>\n",
              "    </tr>\n",
              "    <tr>\n",
              "      <th>3</th>\n",
              "      <td>240</td>\n",
              "      <td>121.0</td>\n",
              "      <td>100.0</td>\n",
              "      <td>3.0</td>\n",
              "      <td>135.0</td>\n",
              "      <td>False</td>\n",
              "      <td>True</td>\n",
              "      <td>False</td>\n",
              "      <td>False</td>\n",
              "      <td>False</td>\n",
              "      <td>...</td>\n",
              "      <td>False</td>\n",
              "      <td>False</td>\n",
              "      <td>False</td>\n",
              "      <td>False</td>\n",
              "      <td>False</td>\n",
              "      <td>False</td>\n",
              "      <td>False</td>\n",
              "      <td>False</td>\n",
              "      <td>False</td>\n",
              "      <td>False</td>\n",
              "    </tr>\n",
              "    <tr>\n",
              "      <th>4</th>\n",
              "      <td>240</td>\n",
              "      <td>121.0</td>\n",
              "      <td>100.0</td>\n",
              "      <td>1.0</td>\n",
              "      <td>42.0</td>\n",
              "      <td>False</td>\n",
              "      <td>True</td>\n",
              "      <td>False</td>\n",
              "      <td>False</td>\n",
              "      <td>False</td>\n",
              "      <td>...</td>\n",
              "      <td>False</td>\n",
              "      <td>False</td>\n",
              "      <td>False</td>\n",
              "      <td>False</td>\n",
              "      <td>False</td>\n",
              "      <td>False</td>\n",
              "      <td>False</td>\n",
              "      <td>False</td>\n",
              "      <td>False</td>\n",
              "      <td>False</td>\n",
              "    </tr>\n",
              "    <tr>\n",
              "      <th>...</th>\n",
              "      <td>...</td>\n",
              "      <td>...</td>\n",
              "      <td>...</td>\n",
              "      <td>...</td>\n",
              "      <td>...</td>\n",
              "      <td>...</td>\n",
              "      <td>...</td>\n",
              "      <td>...</td>\n",
              "      <td>...</td>\n",
              "      <td>...</td>\n",
              "      <td>...</td>\n",
              "      <td>...</td>\n",
              "      <td>...</td>\n",
              "      <td>...</td>\n",
              "      <td>...</td>\n",
              "      <td>...</td>\n",
              "      <td>...</td>\n",
              "      <td>...</td>\n",
              "      <td>...</td>\n",
              "      <td>...</td>\n",
              "      <td>...</td>\n",
              "    </tr>\n",
              "    <tr>\n",
              "      <th>71877</th>\n",
              "      <td>240</td>\n",
              "      <td>101.0</td>\n",
              "      <td>200.0</td>\n",
              "      <td>7.0</td>\n",
              "      <td>315.0</td>\n",
              "      <td>False</td>\n",
              "      <td>True</td>\n",
              "      <td>False</td>\n",
              "      <td>False</td>\n",
              "      <td>False</td>\n",
              "      <td>...</td>\n",
              "      <td>False</td>\n",
              "      <td>False</td>\n",
              "      <td>False</td>\n",
              "      <td>False</td>\n",
              "      <td>False</td>\n",
              "      <td>False</td>\n",
              "      <td>False</td>\n",
              "      <td>False</td>\n",
              "      <td>False</td>\n",
              "      <td>False</td>\n",
              "    </tr>\n",
              "    <tr>\n",
              "      <th>71878</th>\n",
              "      <td>240</td>\n",
              "      <td>101.0</td>\n",
              "      <td>200.0</td>\n",
              "      <td>1.0</td>\n",
              "      <td>175.0</td>\n",
              "      <td>False</td>\n",
              "      <td>True</td>\n",
              "      <td>False</td>\n",
              "      <td>False</td>\n",
              "      <td>False</td>\n",
              "      <td>...</td>\n",
              "      <td>False</td>\n",
              "      <td>False</td>\n",
              "      <td>False</td>\n",
              "      <td>False</td>\n",
              "      <td>False</td>\n",
              "      <td>False</td>\n",
              "      <td>False</td>\n",
              "      <td>False</td>\n",
              "      <td>False</td>\n",
              "      <td>False</td>\n",
              "    </tr>\n",
              "    <tr>\n",
              "      <th>71879</th>\n",
              "      <td>240</td>\n",
              "      <td>101.0</td>\n",
              "      <td>200.0</td>\n",
              "      <td>1.0</td>\n",
              "      <td>45.0</td>\n",
              "      <td>False</td>\n",
              "      <td>True</td>\n",
              "      <td>False</td>\n",
              "      <td>False</td>\n",
              "      <td>False</td>\n",
              "      <td>...</td>\n",
              "      <td>False</td>\n",
              "      <td>False</td>\n",
              "      <td>False</td>\n",
              "      <td>False</td>\n",
              "      <td>False</td>\n",
              "      <td>False</td>\n",
              "      <td>False</td>\n",
              "      <td>False</td>\n",
              "      <td>False</td>\n",
              "      <td>False</td>\n",
              "    </tr>\n",
              "    <tr>\n",
              "      <th>71880</th>\n",
              "      <td>240</td>\n",
              "      <td>101.0</td>\n",
              "      <td>200.0</td>\n",
              "      <td>3.0</td>\n",
              "      <td>159.0</td>\n",
              "      <td>False</td>\n",
              "      <td>True</td>\n",
              "      <td>False</td>\n",
              "      <td>False</td>\n",
              "      <td>False</td>\n",
              "      <td>...</td>\n",
              "      <td>False</td>\n",
              "      <td>False</td>\n",
              "      <td>False</td>\n",
              "      <td>False</td>\n",
              "      <td>False</td>\n",
              "      <td>False</td>\n",
              "      <td>False</td>\n",
              "      <td>False</td>\n",
              "      <td>False</td>\n",
              "      <td>False</td>\n",
              "    </tr>\n",
              "    <tr>\n",
              "      <th>71881</th>\n",
              "      <td>240</td>\n",
              "      <td>101.0</td>\n",
              "      <td>200.0</td>\n",
              "      <td>3.0</td>\n",
              "      <td>207.0</td>\n",
              "      <td>False</td>\n",
              "      <td>True</td>\n",
              "      <td>False</td>\n",
              "      <td>False</td>\n",
              "      <td>False</td>\n",
              "      <td>...</td>\n",
              "      <td>False</td>\n",
              "      <td>False</td>\n",
              "      <td>False</td>\n",
              "      <td>False</td>\n",
              "      <td>False</td>\n",
              "      <td>False</td>\n",
              "      <td>False</td>\n",
              "      <td>False</td>\n",
              "      <td>False</td>\n",
              "      <td>False</td>\n",
              "    </tr>\n",
              "  </tbody>\n",
              "</table>\n",
              "<p>71882 rows × 806 columns</p>\n",
              "</div>"
            ],
            "text/plain": [
              "       Capacity  Bookings  Duration  Quantity  TotalSales  \\\n",
              "0           240     121.0     100.0       1.0        42.0   \n",
              "1           240     121.0     100.0       5.0       550.0   \n",
              "2           240     121.0     100.0       2.0        90.0   \n",
              "3           240     121.0     100.0       3.0       135.0   \n",
              "4           240     121.0     100.0       1.0        42.0   \n",
              "...         ...       ...       ...       ...         ...   \n",
              "71877       240     101.0     200.0       7.0       315.0   \n",
              "71878       240     101.0     200.0       1.0       175.0   \n",
              "71879       240     101.0     200.0       1.0        45.0   \n",
              "71880       240     101.0     200.0       3.0       159.0   \n",
              "71881       240     101.0     200.0       3.0       207.0   \n",
              "\n",
              "       Origin_Type_Ciudad Fronteriza  Origin_Type_Ciudad Principal  \\\n",
              "0                              False                          True   \n",
              "1                              False                          True   \n",
              "2                              False                          True   \n",
              "3                              False                          True   \n",
              "4                              False                          True   \n",
              "...                              ...                           ...   \n",
              "71877                          False                          True   \n",
              "71878                          False                          True   \n",
              "71879                          False                          True   \n",
              "71880                          False                          True   \n",
              "71881                          False                          True   \n",
              "\n",
              "       Origin_Type_Ecoturismo  Origin_Type_MX Amigos y Familia  \\\n",
              "0                       False                            False   \n",
              "1                       False                            False   \n",
              "2                       False                            False   \n",
              "3                       False                            False   \n",
              "4                       False                            False   \n",
              "...                       ...                              ...   \n",
              "71877                   False                            False   \n",
              "71878                   False                            False   \n",
              "71879                   False                            False   \n",
              "71880                   False                            False   \n",
              "71881                   False                            False   \n",
              "\n",
              "       Origin_Type_Playa  ...  Route_ID_9627  Route_ID_9644  Route_ID_9650  \\\n",
              "0                  False  ...          False          False          False   \n",
              "1                  False  ...          False          False          False   \n",
              "2                  False  ...          False          False          False   \n",
              "3                  False  ...          False          False          False   \n",
              "4                  False  ...          False          False          False   \n",
              "...                  ...  ...            ...            ...            ...   \n",
              "71877              False  ...          False          False          False   \n",
              "71878              False  ...          False          False          False   \n",
              "71879              False  ...          False          False          False   \n",
              "71880              False  ...          False          False          False   \n",
              "71881              False  ...          False          False          False   \n",
              "\n",
              "       Route_ID_9667  Route_ID_9694  Route_ID_9706  Route_ID_9768  \\\n",
              "0              False          False          False          False   \n",
              "1              False          False          False          False   \n",
              "2              False          False          False          False   \n",
              "3              False          False          False          False   \n",
              "4              False          False          False          False   \n",
              "...              ...            ...            ...            ...   \n",
              "71877          False          False          False          False   \n",
              "71878          False          False          False          False   \n",
              "71879          False          False          False          False   \n",
              "71880          False          False          False          False   \n",
              "71881          False          False          False          False   \n",
              "\n",
              "       Route_ID_9799  Route_ID_9840  Route_ID_9850  \n",
              "0              False          False          False  \n",
              "1              False          False          False  \n",
              "2              False          False          False  \n",
              "3              False          False          False  \n",
              "4              False          False          False  \n",
              "...              ...            ...            ...  \n",
              "71877          False          False          False  \n",
              "71878          False          False          False  \n",
              "71879          False          False          False  \n",
              "71880          False          False          False  \n",
              "71881          False          False          False  \n",
              "\n",
              "[71882 rows x 806 columns]"
            ]
          },
          "execution_count": 17,
          "metadata": {},
          "output_type": "execute_result"
        }
      ],
      "source": [
        "X"
      ]
    },
    {
      "cell_type": "code",
      "execution_count": 49,
      "metadata": {
        "colab": {
          "base_uri": "https://localhost:8080/"
        },
        "id": "MOBFRDEiDhtL",
        "outputId": "f3b16bb2-4230-4ca8-97bd-4e0cdfdcf74c"
      },
      "outputs": [
        {
          "name": "stdout",
          "output_type": "stream",
          "text": [
            "Fitting 3 folds for each of 10 candidates, totalling 30 fits\n",
            "[CV 1/3] END colsample_bytree=0.6, learning_rate=0.01, max_depth=5, n_estimators=100, subsample=0.6;, score=-495.094 total time=  28.5s\n",
            "[CV 2/3] END colsample_bytree=0.6, learning_rate=0.01, max_depth=5, n_estimators=100, subsample=0.6;, score=-479.971 total time=  18.7s\n",
            "[CV 3/3] END colsample_bytree=0.6, learning_rate=0.01, max_depth=5, n_estimators=100, subsample=0.6;, score=-488.932 total time=  18.0s\n",
            "[CV 1/3] END colsample_bytree=0.6, learning_rate=0.1, max_depth=5, n_estimators=100, subsample=0.6;, score=-186.288 total time=  16.4s\n",
            "[CV 2/3] END colsample_bytree=0.6, learning_rate=0.1, max_depth=5, n_estimators=100, subsample=0.6;, score=-182.763 total time=  14.5s\n",
            "[CV 3/3] END colsample_bytree=0.6, learning_rate=0.1, max_depth=5, n_estimators=100, subsample=0.6;, score=-182.734 total time=  15.6s\n",
            "[CV 1/3] END colsample_bytree=0.6, learning_rate=0.01, max_depth=3, n_estimators=100, subsample=0.6;, score=-579.745 total time=  11.5s\n",
            "[CV 2/3] END colsample_bytree=0.6, learning_rate=0.01, max_depth=3, n_estimators=100, subsample=0.6;, score=-564.724 total time=  10.1s\n",
            "[CV 3/3] END colsample_bytree=0.6, learning_rate=0.01, max_depth=3, n_estimators=100, subsample=0.6;, score=-572.348 total time=  10.6s\n",
            "[CV 1/3] END colsample_bytree=0.6, learning_rate=0.01, max_depth=3, n_estimators=100, subsample=1.0;, score=-579.517 total time=   9.8s\n",
            "[CV 2/3] END colsample_bytree=0.6, learning_rate=0.01, max_depth=3, n_estimators=100, subsample=1.0;, score=-563.979 total time=  11.8s\n",
            "[CV 3/3] END colsample_bytree=0.6, learning_rate=0.01, max_depth=3, n_estimators=100, subsample=1.0;, score=-572.532 total time=  11.6s\n",
            "[CV 1/3] END colsample_bytree=0.6, learning_rate=0.05, max_depth=5, n_estimators=100, subsample=0.6;, score=-209.260 total time=   9.4s\n",
            "[CV 2/3] END colsample_bytree=0.6, learning_rate=0.05, max_depth=5, n_estimators=100, subsample=0.6;, score=-203.559 total time=   9.4s\n",
            "[CV 3/3] END colsample_bytree=0.6, learning_rate=0.05, max_depth=5, n_estimators=100, subsample=0.6;, score=-206.097 total time=  11.4s\n",
            "[CV 1/3] END colsample_bytree=1.0, learning_rate=0.01, max_depth=3, n_estimators=100, subsample=0.6;, score=-523.171 total time=  10.4s\n",
            "[CV 2/3] END colsample_bytree=1.0, learning_rate=0.01, max_depth=3, n_estimators=100, subsample=0.6;, score=-508.185 total time=  10.6s\n",
            "[CV 3/3] END colsample_bytree=1.0, learning_rate=0.01, max_depth=3, n_estimators=100, subsample=0.6;, score=-516.526 total time=   9.0s\n",
            "[CV 1/3] END colsample_bytree=0.6, learning_rate=0.1, max_depth=3, n_estimators=500, subsample=0.8;, score=-175.099 total time=  20.7s\n",
            "[CV 2/3] END colsample_bytree=0.6, learning_rate=0.1, max_depth=3, n_estimators=500, subsample=0.8;, score=-174.063 total time=  23.2s\n",
            "[CV 3/3] END colsample_bytree=0.6, learning_rate=0.1, max_depth=3, n_estimators=500, subsample=0.8;, score=-171.216 total time=  16.7s\n",
            "[CV 1/3] END colsample_bytree=0.8, learning_rate=0.1, max_depth=5, n_estimators=100, subsample=0.6;, score=-180.567 total time=   8.3s\n",
            "[CV 2/3] END colsample_bytree=0.8, learning_rate=0.1, max_depth=5, n_estimators=100, subsample=0.6;, score=-175.515 total time=   7.8s\n",
            "[CV 3/3] END colsample_bytree=0.8, learning_rate=0.1, max_depth=5, n_estimators=100, subsample=0.6;, score=-178.534 total time=  10.4s\n",
            "[CV 1/3] END colsample_bytree=1.0, learning_rate=0.05, max_depth=3, n_estimators=500, subsample=1.0;, score=-207.992 total time=  31.7s\n",
            "[CV 2/3] END colsample_bytree=1.0, learning_rate=0.05, max_depth=3, n_estimators=500, subsample=1.0;, score=-205.988 total time=  29.2s\n",
            "[CV 3/3] END colsample_bytree=1.0, learning_rate=0.05, max_depth=3, n_estimators=500, subsample=1.0;, score=-206.793 total time=  25.3s\n",
            "[CV 1/3] END colsample_bytree=0.6, learning_rate=0.01, max_depth=5, n_estimators=500, subsample=0.6;, score=-208.128 total time=  32.4s\n",
            "[CV 2/3] END colsample_bytree=0.6, learning_rate=0.01, max_depth=5, n_estimators=500, subsample=0.6;, score=-203.452 total time=  33.6s\n",
            "[CV 3/3] END colsample_bytree=0.6, learning_rate=0.01, max_depth=5, n_estimators=500, subsample=0.6;, score=-205.622 total time=  30.2s\n"
          ]
        },
        {
          "data": {
            "text/html": [
              "<style>#sk-container-id-4 {color: black;background-color: white;}#sk-container-id-4 pre{padding: 0;}#sk-container-id-4 div.sk-toggleable {background-color: white;}#sk-container-id-4 label.sk-toggleable__label {cursor: pointer;display: block;width: 100%;margin-bottom: 0;padding: 0.3em;box-sizing: border-box;text-align: center;}#sk-container-id-4 label.sk-toggleable__label-arrow:before {content: \"▸\";float: left;margin-right: 0.25em;color: #696969;}#sk-container-id-4 label.sk-toggleable__label-arrow:hover:before {color: black;}#sk-container-id-4 div.sk-estimator:hover label.sk-toggleable__label-arrow:before {color: black;}#sk-container-id-4 div.sk-toggleable__content {max-height: 0;max-width: 0;overflow: hidden;text-align: left;background-color: #f0f8ff;}#sk-container-id-4 div.sk-toggleable__content pre {margin: 0.2em;color: black;border-radius: 0.25em;background-color: #f0f8ff;}#sk-container-id-4 input.sk-toggleable__control:checked~div.sk-toggleable__content {max-height: 200px;max-width: 100%;overflow: auto;}#sk-container-id-4 input.sk-toggleable__control:checked~label.sk-toggleable__label-arrow:before {content: \"▾\";}#sk-container-id-4 div.sk-estimator input.sk-toggleable__control:checked~label.sk-toggleable__label {background-color: #d4ebff;}#sk-container-id-4 div.sk-label input.sk-toggleable__control:checked~label.sk-toggleable__label {background-color: #d4ebff;}#sk-container-id-4 input.sk-hidden--visually {border: 0;clip: rect(1px 1px 1px 1px);clip: rect(1px, 1px, 1px, 1px);height: 1px;margin: -1px;overflow: hidden;padding: 0;position: absolute;width: 1px;}#sk-container-id-4 div.sk-estimator {font-family: monospace;background-color: #f0f8ff;border: 1px dotted black;border-radius: 0.25em;box-sizing: border-box;margin-bottom: 0.5em;}#sk-container-id-4 div.sk-estimator:hover {background-color: #d4ebff;}#sk-container-id-4 div.sk-parallel-item::after {content: \"\";width: 100%;border-bottom: 1px solid gray;flex-grow: 1;}#sk-container-id-4 div.sk-label:hover label.sk-toggleable__label {background-color: #d4ebff;}#sk-container-id-4 div.sk-serial::before {content: \"\";position: absolute;border-left: 1px solid gray;box-sizing: border-box;top: 0;bottom: 0;left: 50%;z-index: 0;}#sk-container-id-4 div.sk-serial {display: flex;flex-direction: column;align-items: center;background-color: white;padding-right: 0.2em;padding-left: 0.2em;position: relative;}#sk-container-id-4 div.sk-item {position: relative;z-index: 1;}#sk-container-id-4 div.sk-parallel {display: flex;align-items: stretch;justify-content: center;background-color: white;position: relative;}#sk-container-id-4 div.sk-item::before, #sk-container-id-4 div.sk-parallel-item::before {content: \"\";position: absolute;border-left: 1px solid gray;box-sizing: border-box;top: 0;bottom: 0;left: 50%;z-index: -1;}#sk-container-id-4 div.sk-parallel-item {display: flex;flex-direction: column;z-index: 1;position: relative;background-color: white;}#sk-container-id-4 div.sk-parallel-item:first-child::after {align-self: flex-end;width: 50%;}#sk-container-id-4 div.sk-parallel-item:last-child::after {align-self: flex-start;width: 50%;}#sk-container-id-4 div.sk-parallel-item:only-child::after {width: 0;}#sk-container-id-4 div.sk-dashed-wrapped {border: 1px dashed gray;margin: 0 0.4em 0.5em 0.4em;box-sizing: border-box;padding-bottom: 0.4em;background-color: white;}#sk-container-id-4 div.sk-label label {font-family: monospace;font-weight: bold;display: inline-block;line-height: 1.2em;}#sk-container-id-4 div.sk-label-container {text-align: center;}#sk-container-id-4 div.sk-container {/* jupyter's `normalize.less` sets `[hidden] { display: none; }` but bootstrap.min.css set `[hidden] { display: none !important; }` so we also need the `!important` here to be able to override the default hidden behavior on the sphinx rendered scikit-learn.org. See: https://github.com/scikit-learn/scikit-learn/issues/21755 */display: inline-block !important;position: relative;}#sk-container-id-4 div.sk-text-repr-fallback {display: none;}</style><div id=\"sk-container-id-4\" class=\"sk-top-container\"><div class=\"sk-text-repr-fallback\"><pre>XGBRegressor(base_score=None, booster=None, callbacks=None,\n",
              "             colsample_bylevel=None, colsample_bynode=None,\n",
              "             colsample_bytree=0.6, device=None, early_stopping_rounds=None,\n",
              "             enable_categorical=False, eval_metric=None, feature_types=None,\n",
              "             gamma=None, grow_policy=None, importance_type=None,\n",
              "             interaction_constraints=None, learning_rate=0.1, max_bin=None,\n",
              "             max_cat_threshold=None, max_cat_to_onehot=None,\n",
              "             max_delta_step=None, max_depth=3, max_leaves=None,\n",
              "             min_child_weight=None, missing=nan, monotone_constraints=None,\n",
              "             multi_strategy=None, n_estimators=500, n_jobs=None,\n",
              "             num_parallel_tree=None, random_state=None, ...)</pre><b>In a Jupyter environment, please rerun this cell to show the HTML representation or trust the notebook. <br />On GitHub, the HTML representation is unable to render, please try loading this page with nbviewer.org.</b></div><div class=\"sk-container\" hidden><div class=\"sk-item\"><div class=\"sk-estimator sk-toggleable\"><input class=\"sk-toggleable__control sk-hidden--visually\" id=\"sk-estimator-id-4\" type=\"checkbox\" checked><label for=\"sk-estimator-id-4\" class=\"sk-toggleable__label sk-toggleable__label-arrow\">XGBRegressor</label><div class=\"sk-toggleable__content\"><pre>XGBRegressor(base_score=None, booster=None, callbacks=None,\n",
              "             colsample_bylevel=None, colsample_bynode=None,\n",
              "             colsample_bytree=0.6, device=None, early_stopping_rounds=None,\n",
              "             enable_categorical=False, eval_metric=None, feature_types=None,\n",
              "             gamma=None, grow_policy=None, importance_type=None,\n",
              "             interaction_constraints=None, learning_rate=0.1, max_bin=None,\n",
              "             max_cat_threshold=None, max_cat_to_onehot=None,\n",
              "             max_delta_step=None, max_depth=3, max_leaves=None,\n",
              "             min_child_weight=None, missing=nan, monotone_constraints=None,\n",
              "             multi_strategy=None, n_estimators=500, n_jobs=None,\n",
              "             num_parallel_tree=None, random_state=None, ...)</pre></div></div></div></div></div>"
            ],
            "text/plain": [
              "XGBRegressor(base_score=None, booster=None, callbacks=None,\n",
              "             colsample_bylevel=None, colsample_bynode=None,\n",
              "             colsample_bytree=0.6, device=None, early_stopping_rounds=None,\n",
              "             enable_categorical=False, eval_metric=None, feature_types=None,\n",
              "             gamma=None, grow_policy=None, importance_type=None,\n",
              "             interaction_constraints=None, learning_rate=0.1, max_bin=None,\n",
              "             max_cat_threshold=None, max_cat_to_onehot=None,\n",
              "             max_delta_step=None, max_depth=3, max_leaves=None,\n",
              "             min_child_weight=None, missing=nan, monotone_constraints=None,\n",
              "             multi_strategy=None, n_estimators=500, n_jobs=None,\n",
              "             num_parallel_tree=None, random_state=None, ...)"
            ]
          },
          "execution_count": 49,
          "metadata": {},
          "output_type": "execute_result"
        }
      ],
      "source": [
        "# Model selection and training\n",
        "import xgboost as xgb\n",
        "from sklearn.metrics import mean_squared_error\n",
        "from sklearn.model_selection import RandomizedSearchCV\n",
        "from scipy.stats import randint\n",
        "\n",
        "# Crear un objeto XGBoost Regressor\n",
        "xgb_reg = xgb.XGBRegressor(objective='reg:squarederror')\n",
        "\n",
        "# Definir los parámetros a buscar con rangos reducidos\n",
        "param_dist = {\n",
        "    'max_depth': [3, 5],\n",
        "    'learning_rate': [0.01, 0.05, 0.1],\n",
        "    'n_estimators': [100, 500],\n",
        "    'subsample': [0.6, 0.8, 1.0],\n",
        "    'colsample_bytree': [0.6, 0.8, 1.0]\n",
        "}\n",
        "\n",
        "# Realizar búsqueda de hiperparámetros con validación cruzada aleatoria\n",
        "random_search = RandomizedSearchCV(estimator=xgb_reg, param_distributions=param_dist, cv=3, scoring='neg_mean_squared_error', verbose=3)\n",
        "random_search.fit(X_train, y_train)\n",
        "\n",
        "# Obtener el mejor modelo y sus hiperparámetros\n",
        "best_estimator = random_search.best_estimator_\n",
        "best_params = random_search.best_params_\n",
        "\n",
        "# Entrenar el mejor modelo en el conjunto de entrenamiento completo\n",
        "best_estimator.fit(X_train, y_train)"
      ]
    },
    {
      "cell_type": "code",
      "execution_count": null,
      "metadata": {},
      "outputs": [
        {
          "data": {
            "text/html": [
              "<div>\n",
              "<style scoped>\n",
              "    .dataframe tbody tr th:only-of-type {\n",
              "        vertical-align: middle;\n",
              "    }\n",
              "\n",
              "    .dataframe tbody tr th {\n",
              "        vertical-align: top;\n",
              "    }\n",
              "\n",
              "    .dataframe thead th {\n",
              "        text-align: right;\n",
              "    }\n",
              "</style>\n",
              "<table border=\"1\" class=\"dataframe\">\n",
              "  <thead>\n",
              "    <tr style=\"text-align: right;\">\n",
              "      <th></th>\n",
              "      <th>y_test</th>\n",
              "      <th>Predictions</th>\n",
              "    </tr>\n",
              "  </thead>\n",
              "  <tbody>\n",
              "    <tr>\n",
              "      <th>71290</th>\n",
              "      <td>240.0</td>\n",
              "      <td>231.515213</td>\n",
              "    </tr>\n",
              "    <tr>\n",
              "      <th>41135</th>\n",
              "      <td>173.0</td>\n",
              "      <td>171.927353</td>\n",
              "    </tr>\n",
              "    <tr>\n",
              "      <th>41031</th>\n",
              "      <td>240.0</td>\n",
              "      <td>239.996475</td>\n",
              "    </tr>\n",
              "    <tr>\n",
              "      <th>48530</th>\n",
              "      <td>168.0</td>\n",
              "      <td>189.709396</td>\n",
              "    </tr>\n",
              "    <tr>\n",
              "      <th>33603</th>\n",
              "      <td>204.0</td>\n",
              "      <td>215.010178</td>\n",
              "    </tr>\n",
              "    <tr>\n",
              "      <th>50086</th>\n",
              "      <td>203.0</td>\n",
              "      <td>211.266373</td>\n",
              "    </tr>\n",
              "    <tr>\n",
              "      <th>7615</th>\n",
              "      <td>140.0</td>\n",
              "      <td>142.616882</td>\n",
              "    </tr>\n",
              "    <tr>\n",
              "      <th>65729</th>\n",
              "      <td>180.0</td>\n",
              "      <td>178.346603</td>\n",
              "    </tr>\n",
              "    <tr>\n",
              "      <th>58055</th>\n",
              "      <td>175.0</td>\n",
              "      <td>189.144409</td>\n",
              "    </tr>\n",
              "    <tr>\n",
              "      <th>14615</th>\n",
              "      <td>238.0</td>\n",
              "      <td>225.806305</td>\n",
              "    </tr>\n",
              "    <tr>\n",
              "      <th>43768</th>\n",
              "      <td>202.0</td>\n",
              "      <td>193.101456</td>\n",
              "    </tr>\n",
              "    <tr>\n",
              "      <th>60161</th>\n",
              "      <td>205.0</td>\n",
              "      <td>210.565247</td>\n",
              "    </tr>\n",
              "    <tr>\n",
              "      <th>2480</th>\n",
              "      <td>240.0</td>\n",
              "      <td>214.524246</td>\n",
              "    </tr>\n",
              "    <tr>\n",
              "      <th>38571</th>\n",
              "      <td>236.0</td>\n",
              "      <td>224.192154</td>\n",
              "    </tr>\n",
              "    <tr>\n",
              "      <th>59682</th>\n",
              "      <td>170.0</td>\n",
              "      <td>195.739990</td>\n",
              "    </tr>\n",
              "    <tr>\n",
              "      <th>11096</th>\n",
              "      <td>143.0</td>\n",
              "      <td>162.515457</td>\n",
              "    </tr>\n",
              "    <tr>\n",
              "      <th>2225</th>\n",
              "      <td>185.0</td>\n",
              "      <td>198.196320</td>\n",
              "    </tr>\n",
              "    <tr>\n",
              "      <th>48445</th>\n",
              "      <td>215.0</td>\n",
              "      <td>208.212265</td>\n",
              "    </tr>\n",
              "    <tr>\n",
              "      <th>62097</th>\n",
              "      <td>208.0</td>\n",
              "      <td>186.949966</td>\n",
              "    </tr>\n",
              "    <tr>\n",
              "      <th>66493</th>\n",
              "      <td>177.0</td>\n",
              "      <td>189.877014</td>\n",
              "    </tr>\n",
              "  </tbody>\n",
              "</table>\n",
              "</div>"
            ],
            "text/plain": [
              "       y_test  Predictions\n",
              "71290   240.0   231.515213\n",
              "41135   173.0   171.927353\n",
              "41031   240.0   239.996475\n",
              "48530   168.0   189.709396\n",
              "33603   204.0   215.010178\n",
              "50086   203.0   211.266373\n",
              "7615    140.0   142.616882\n",
              "65729   180.0   178.346603\n",
              "58055   175.0   189.144409\n",
              "14615   238.0   225.806305\n",
              "43768   202.0   193.101456\n",
              "60161   205.0   210.565247\n",
              "2480    240.0   214.524246\n",
              "38571   236.0   224.192154\n",
              "59682   170.0   195.739990\n",
              "11096   143.0   162.515457\n",
              "2225    185.0   198.196320\n",
              "48445   215.0   208.212265\n",
              "62097   208.0   186.949966\n",
              "66493   177.0   189.877014"
            ]
          },
          "execution_count": 19,
          "metadata": {},
          "output_type": "execute_result"
        }
      ],
      "source": [
        "# Generate predictions on the test data\n",
        "y_pred = best_estimator.predict(X_test)\n",
        "\n",
        "# Crear un nuevo DataFrame con las predicciones y_test y y_pred\n",
        "predictions_df = pd.DataFrame({'y_test': y_test, 'Predictions': y_pred})\n",
        "\n",
        "# Mostrar las primeras filas del DataFrame resultante\n",
        "predictions_df.sample(20)"
      ]
    },
    {
      "cell_type": "code",
      "execution_count": 50,
      "metadata": {
        "id": "sdiHTOGXDiiL"
      },
      "outputs": [
        {
          "data": {
            "text/html": [
              "<div>\n",
              "<style scoped>\n",
              "    .dataframe tbody tr th:only-of-type {\n",
              "        vertical-align: middle;\n",
              "    }\n",
              "\n",
              "    .dataframe tbody tr th {\n",
              "        vertical-align: top;\n",
              "    }\n",
              "\n",
              "    .dataframe thead th {\n",
              "        text-align: right;\n",
              "    }\n",
              "</style>\n",
              "<table border=\"1\" class=\"dataframe\">\n",
              "  <thead>\n",
              "    <tr style=\"text-align: right;\">\n",
              "      <th></th>\n",
              "      <th>Feature</th>\n",
              "      <th>Importance</th>\n",
              "    </tr>\n",
              "  </thead>\n",
              "  <tbody>\n",
              "    <tr>\n",
              "      <th>8</th>\n",
              "      <td>Origin_Type_MX Amigos y Familia</td>\n",
              "      <td>0.062149</td>\n",
              "    </tr>\n",
              "    <tr>\n",
              "      <th>6</th>\n",
              "      <td>Origin_Type_Ciudad Principal</td>\n",
              "      <td>0.040045</td>\n",
              "    </tr>\n",
              "    <tr>\n",
              "      <th>0</th>\n",
              "      <td>Capacity</td>\n",
              "      <td>0.039444</td>\n",
              "    </tr>\n",
              "    <tr>\n",
              "      <th>13</th>\n",
              "      <td>Destination_Type_MX Amigos y Familia</td>\n",
              "      <td>0.037010</td>\n",
              "    </tr>\n",
              "    <tr>\n",
              "      <th>427</th>\n",
              "      <td>Route_ID_3145</td>\n",
              "      <td>0.035870</td>\n",
              "    </tr>\n",
              "    <tr>\n",
              "      <th>...</th>\n",
              "      <td>...</td>\n",
              "      <td>...</td>\n",
              "    </tr>\n",
              "    <tr>\n",
              "      <th>346</th>\n",
              "      <td>Route_ID_2245</td>\n",
              "      <td>0.000000</td>\n",
              "    </tr>\n",
              "    <tr>\n",
              "      <th>352</th>\n",
              "      <td>Route_ID_2300</td>\n",
              "      <td>0.000000</td>\n",
              "    </tr>\n",
              "    <tr>\n",
              "      <th>354</th>\n",
              "      <td>Route_ID_2407</td>\n",
              "      <td>0.000000</td>\n",
              "    </tr>\n",
              "    <tr>\n",
              "      <th>355</th>\n",
              "      <td>Route_ID_2408</td>\n",
              "      <td>0.000000</td>\n",
              "    </tr>\n",
              "    <tr>\n",
              "      <th>805</th>\n",
              "      <td>Route_ID_9850</td>\n",
              "      <td>0.000000</td>\n",
              "    </tr>\n",
              "  </tbody>\n",
              "</table>\n",
              "<p>806 rows × 2 columns</p>\n",
              "</div>"
            ],
            "text/plain": [
              "                                  Feature  Importance\n",
              "8         Origin_Type_MX Amigos y Familia    0.062149\n",
              "6            Origin_Type_Ciudad Principal    0.040045\n",
              "0                                Capacity    0.039444\n",
              "13   Destination_Type_MX Amigos y Familia    0.037010\n",
              "427                         Route_ID_3145    0.035870\n",
              "..                                    ...         ...\n",
              "346                         Route_ID_2245    0.000000\n",
              "352                         Route_ID_2300    0.000000\n",
              "354                         Route_ID_2407    0.000000\n",
              "355                         Route_ID_2408    0.000000\n",
              "805                         Route_ID_9850    0.000000\n",
              "\n",
              "[806 rows x 2 columns]"
            ]
          },
          "execution_count": 50,
          "metadata": {},
          "output_type": "execute_result"
        }
      ],
      "source": [
        "# Get feature importances\n",
        "feature_importances = best_estimator.feature_importances_\n",
        "\n",
        "# Create a DataFrame to display feature importances\n",
        "feature_importance_df = pd.DataFrame({'Feature': X_train.columns, 'Importance': feature_importances})\n",
        "\n",
        "# Sort the DataFrame by importance score in descending order\n",
        "feature_importance_df = feature_importance_df.sort_values(by='Importance', ascending=False)\n",
        "\n",
        "# Save feature importances to a CSV file\n",
        "feature_importance_df.to_csv('feature_importances_4.csv', index=False)\n",
        "\n",
        "# Display the top features\n",
        "feature_importance_df"
      ]
    },
    {
      "cell_type": "code",
      "execution_count": 51,
      "metadata": {},
      "outputs": [
        {
          "data": {
            "text/plain": [
              "['xgboost_model_4.pkl']"
            ]
          },
          "execution_count": 51,
          "metadata": {},
          "output_type": "execute_result"
        }
      ],
      "source": [
        "import joblib\n",
        "joblib.dump(best_estimator, 'xgboost_model_4.pkl')\n"
      ]
    },
    {
      "cell_type": "code",
      "execution_count": 47,
      "metadata": {
        "id": "ZiBjpzL9LazL"
      },
      "outputs": [
        {
          "name": "stdout",
          "output_type": "stream",
          "text": [
            "Mean Absolute Error: 9.598246757813518\n",
            "Mean Squared Error: 152.2617403378101\n",
            "Root Mean Squared Error: 12.339438412578188\n",
            "R-squared: 0.8507320152454187\n"
          ]
        }
      ],
      "source": [
        "from sklearn.metrics import mean_absolute_error, mean_squared_error, r2_score\n",
        "import numpy as np\n",
        "\n",
        "# Calcular el error absoluto medio\n",
        "mae = mean_absolute_error(y_test, y_pred)\n",
        "print(\"Mean Absolute Error:\", mae)\n",
        "\n",
        "# Calcular el error cuadrático medio\n",
        "mse = mean_squared_error(y_test, y_pred)\n",
        "print(\"Mean Squared Error:\", mse)\n",
        "\n",
        "# Calcular la raíz del error cuadrático medio\n",
        "rmse = np.sqrt(mse)\n",
        "print(\"Root Mean Squared Error:\", rmse)\n",
        "\n",
        "# Calcular el coeficiente de determinación (R2)\n",
        "r2 = r2_score(y_test, y_pred)\n",
        "print(\"R-squared:\", r2)\n"
      ]
    }
  ],
  "metadata": {
    "accelerator": "GPU",
    "colab": {
      "gpuType": "T4",
      "include_colab_link": true,
      "provenance": []
    },
    "kernelspec": {
      "display_name": "Python 3",
      "name": "python3"
    },
    "language_info": {
      "codemirror_mode": {
        "name": "ipython",
        "version": 3
      },
      "file_extension": ".py",
      "mimetype": "text/x-python",
      "name": "python",
      "nbconvert_exporter": "python",
      "pygments_lexer": "ipython3",
      "version": "3.11.7"
    }
  },
  "nbformat": 4,
  "nbformat_minor": 0
}
